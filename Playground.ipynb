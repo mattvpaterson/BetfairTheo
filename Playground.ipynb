{
 "cells": [
  {
   "cell_type": "code",
   "execution_count": 39,
   "metadata": {},
   "outputs": [
    {
     "name": "stdout",
     "output_type": "stream",
     "text": [
      "The autoreload extension is already loaded. To reload it, use:\n",
      "  %reload_ext autoreload\n"
     ]
    }
   ],
   "source": [
    "import datetime as datetime\n",
    "import numpy as np\n",
    "import pandas as pd\n",
    "import os\n",
    "import warnings\n",
    "import time\n",
    "\n",
    "from Data import *\n",
    "from Speed_Fit import *\n",
    "from Variance_Fit import *\n",
    "from Scorer import *\n",
    "\n",
    "warnings.filterwarnings(\"ignore\")\n",
    "\n",
    "%load_ext autoreload\n",
    "%autoreload 2"
   ]
  },
  {
   "cell_type": "code",
   "execution_count": 19,
   "metadata": {},
   "outputs": [
    {
     "name": "stdout",
     "output_type": "stream",
     "text": [
      "62237 races before filtering\n",
      "1817 races after filtering\n",
      "1203 races after matching\n"
     ]
    }
   ],
   "source": [
    "test = Data('./SFF_16_20.csv')\n",
    "test.filter(race_type=['b'])\n",
    "test.match('C:\\\\Users\\\\mvopa\\\\Desktop\\\\Betfair\\\\data\\\\UK\\\\New\\\\dwbfpricesukwin')"
   ]
  },
  {
   "cell_type": "code",
   "execution_count": 29,
   "metadata": {},
   "outputs": [
    {
     "name": "stdout",
     "output_type": "stream",
     "text": [
      "0.554 R^2 Race General features \n",
      "0.6097 R^2 All\n",
      "0.0557 Horse Specific R^2 difference\n"
     ]
    }
   ],
   "source": [
    "fit = Speed_Fit(test.base)\n",
    "fit.linear_race_fit()\n",
    "fit.linear_horse_fit()"
   ]
  },
  {
   "cell_type": "code",
   "execution_count": 37,
   "metadata": {},
   "outputs": [],
   "source": [
    "var_fit = Variance_Fit(fit.final)\n",
    "var_fit.associate_constant_variance(0.5)"
   ]
  },
  {
   "cell_type": "code",
   "execution_count": 42,
   "metadata": {},
   "outputs": [],
   "source": [
    "simulation = Scorer(var_fit.base)\n",
    "simulation.simulate(10000)\n",
    "simulation.score()"
   ]
  },
  {
   "cell_type": "markdown",
   "metadata": {},
   "source": [
    "## Grid search optimising constant variance"
   ]
  },
  {
   "cell_type": "code",
   "execution_count": 49,
   "metadata": {},
   "outputs": [],
   "source": [
    "storage = {}\n",
    "for i in [np.round(j,decimals=2) for j in np.linspace(0.1,0.8,15)]:\n",
    "    var_fit = Variance_Fit(fit.final)\n",
    "    var_fit.associate_constant_variance(i)\n",
    "    \n",
    "    simulation = Scorer(var_fit.base)\n",
    "    simulation.simulate(10000)\n",
    "    simulation.score()\n",
    "    \n",
    "    storage[i] = [simulation.score,simulation.score2]"
   ]
  },
  {
   "cell_type": "code",
   "execution_count": 50,
   "metadata": {},
   "outputs": [
    {
     "data": {
      "text/plain": [
       "{0.1: [38.14309095759053, 340.16863114883057],\n",
       " 0.15: [38.041341812181244, 231.9547678699586],\n",
       " 0.2: [38.075194700709446, 178.9706748096327],\n",
       " 0.25: [38.075058677695274, 152.44529367638646],\n",
       " 0.3: [38.07393835916394, 138.57563888672814],\n",
       " 0.35: [38.08421890450942, 131.30801391284348],\n",
       " 0.4: [38.080352156035154, 127.55595499422125],\n",
       " 0.45: [38.08368052951052, 125.61470637094968],\n",
       " 0.5: [38.08254841773214, 124.83097431209063],\n",
       " 0.55: [38.09890803071367, 124.60003798730466],\n",
       " 0.6: [38.06976134716326, 125.10188103104738],\n",
       " 0.65: [38.086529959778325, 125.78331734949592],\n",
       " 0.7: [38.08424119582571, 126.36038766578241],\n",
       " 0.75: [38.07329866087385, 127.22904113435476],\n",
       " 0.8: [38.08494260424557, 127.99987850059537]}"
      ]
     },
     "execution_count": 50,
     "metadata": {},
     "output_type": "execute_result"
    }
   ],
   "source": [
    "storage"
   ]
  }
 ],
 "metadata": {
  "kernelspec": {
   "display_name": "Python 3",
   "language": "python",
   "name": "python3"
  },
  "language_info": {
   "codemirror_mode": {
    "name": "ipython",
    "version": 3
   },
   "file_extension": ".py",
   "mimetype": "text/x-python",
   "name": "python",
   "nbconvert_exporter": "python",
   "pygments_lexer": "ipython3",
   "version": "3.7.4"
  }
 },
 "nbformat": 4,
 "nbformat_minor": 2
}
