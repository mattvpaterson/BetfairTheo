{
 "cells": [
  {
   "cell_type": "code",
   "execution_count": 1,
   "metadata": {},
   "outputs": [
    {
     "name": "stderr",
     "output_type": "stream",
     "text": [
      "C:\\Program Files (x86)\\Anaconda\\lib\\site-packages\\statsmodels\\tools\\_testing.py:19: FutureWarning: pandas.util.testing is deprecated. Use the functions in the public API at pandas.testing instead.\n",
      "  import pandas.util.testing as tm\n"
     ]
    }
   ],
   "source": [
    "import datetime as datetime\n",
    "import numpy as np\n",
    "import pandas as pd\n",
    "import os\n",
    "import warnings\n",
    "import time\n",
    "import matplotlib.pyplot as plt\n",
    "import xgboost as xgb\n",
    "\n",
    "from Data import *\n",
    "from Speed_Fit import *\n",
    "from Variance_Fit import *\n",
    "from Scorer import *\n",
    "\n",
    "%load_ext autoreload\n",
    "%autoreload 2"
   ]
  },
  {
   "cell_type": "markdown",
   "metadata": {},
   "source": [
    "## Intro:\n",
    "> The goal of this Pricing section is to create a system to calculate theoretical odds prices for horse/jockey combos listed in upcoming races. With theoretical odds we have some benchmark/ starting step for market making strategies / position taking arbitrage. Looking online there are two frequently recurring suggestions for successful modelling of horse races. The first involves speed and variance prediction for individual runners then using monte-carlo for odds calculation. The second and more common suggests using a multionmial logit model as listed in the following research:\n",
    "[https://www.researchgate.net/publication/292145708_Searching_for_Positive_Returns_at_the_Track](https://www.researchgate.net/publication/292145708_Searching_for_Positive_Returns_at_the_Track)\n",
    "> The following examples and related code focus on the first method of prediction, but builds a general scoring system and comparison vs betfair-exchange average traded odds to give an intuitive feeling for the accuracy of any available or constructed theoretical odds set \n",
    "\n",
    "> Two data sources are looked at in this section:\n",
    "1. Race data from a 3rd party provider that provides courses length, weather conditions, trainers, weight, age, speed run in race, results etc.\n",
    "[https://www.racingformbook.com/single-csv-racing-results/](https://www.racingformbook.com/single-csv-racing-results/), included below as './SFF_16_20.csv'\n",
    "2. A collation of betfair race summary files which include summary trade data such as lowest traded pric, highest traded price, volume weighted average price, close price etc and also results [https://www.racingformbook.com/single-csv-racing-results/](https://www.racingformbook.com/single-csv-racing-results/). These are included below under 'C:\\\\Users\\\\mvopa\\\\Desktop\\\\Betfair\\\\data\\\\UK\\\\New\\\\dwbfpricesukwin'"
   ]
  },
  {
   "cell_type": "markdown",
   "metadata": {},
   "source": [
    "The Data Class reads in data from both sources, matches them together using unique features like name, race number etc and also performs data filtering tasks as described in the filter method. Type = ['b'] are flat races, this is the smallest category as noted in First Exploration.ipynb - to aid with training times & also this is the most common type of races for the larger volume betfair races"
   ]
  },
  {
   "cell_type": "code",
   "execution_count": 2,
   "metadata": {},
   "outputs": [
    {
     "name": "stdout",
     "output_type": "stream",
     "text": [
      "62237 races before filtering\n",
      "1817 races after filtering\n",
      "1203 races after matching\n"
     ]
    }
   ],
   "source": [
    "test = Data('./SFF_16_20.csv')\n",
    "test.filter(race_type=['b'])\n",
    "test.match('C:\\\\Users\\\\mvopa\\\\Desktop\\\\Betfair\\\\data\\\\UK\\\\New\\\\dwbfpricesukwin')"
   ]
  },
  {
   "cell_type": "markdown",
   "metadata": {},
   "source": [
    "## To begin:\n",
    "1. Speed fit: Decision-Tree regression/ linear regression/ xgboost\n",
    "2. Variance fit: Decision-Tree regression/ linear regression/ constant fit\n",
    "> All fitting methods give results on train/test R^2 for race general features (no individual runners) and indivdual runners \"all\", the idea is that from this we gain a better estimate of how much runner specific prediction edge we are gaining as this is what will be useful for determining relative odds - not general race speed prediction accuarcy. Model hyperparameters are optimised by gridsearch elswehere for conciseness"
   ]
  },
  {
   "cell_type": "markdown",
   "metadata": {},
   "source": [
    "#### Speed Fit / Decision-Tree"
   ]
  },
  {
   "cell_type": "code",
   "execution_count": 3,
   "metadata": {},
   "outputs": [
    {
     "name": "stdout",
     "output_type": "stream",
     "text": [
      "Decision-Tree-Fit 0.5282 R^2 Race General \n",
      "Decision-Tree-Fit 0.3673 R^2 Race General test \n",
      "----------\n",
      "Decision-Tree-Fit 0.5567 R^2 All\n",
      "Decision-Tree-Fit 0.2462 R^2 All test\n",
      "----------\n",
      "Decision-Tree-Fit 0.0285 Horse Specific R^2 diff\n"
     ]
    }
   ],
   "source": [
    "fit = Speed_Fit(test.base)\n",
    "fit.decision_tree_fit(train_split = 0.8, depth = 7 , all_depth = 7)"
   ]
  },
  {
   "cell_type": "markdown",
   "metadata": {},
   "source": [
    "#### Speed Fit / Linear"
   ]
  },
  {
   "cell_type": "code",
   "execution_count": 4,
   "metadata": {},
   "outputs": [
    {
     "name": "stdout",
     "output_type": "stream",
     "text": [
      "Linear-Fit 0.5761 R^2 Race General \n",
      "Linear-Fit 0.3865 R^2 Race General test \n",
      "----------\n",
      "Linear-Fit 0.6278 R^2 All\n",
      "Linear-Fit 0.4328 R^2 All test\n",
      "----------\n",
      "Linear-Fit 0.0517 Horse Specific R^2 diff\n"
     ]
    }
   ],
   "source": [
    "fit = Speed_Fit(test.base)\n",
    "fit.linear_fit(train_split = 0.8)"
   ]
  },
  {
   "cell_type": "markdown",
   "metadata": {},
   "source": [
    "#### Speed Fit / XGboost"
   ]
  },
  {
   "cell_type": "code",
   "execution_count": 5,
   "metadata": {},
   "outputs": [
    {
     "name": "stdout",
     "output_type": "stream",
     "text": [
      "xgboost 0.5703 R^2 Race General \n",
      "xgboost 0.4439 R^2 Race General test \n",
      "----------\n",
      "xgboost 0.6931 R^2 All\n",
      "xgboost 0.5106 R^2 All test\n",
      "----------\n",
      "xgboost 0.0667 Horse Specific R^2 diff\n"
     ]
    }
   ],
   "source": [
    "fit = Speed_Fit(test.base)\n",
    "fit.xgboost_fit()"
   ]
  },
  {
   "cell_type": "markdown",
   "metadata": {},
   "source": [
    ">It's apparent that in order the best models are xgboost -> linear -> decision-tree regression. So we pick xgboost as our speed prediction model. Next to estimate the natural variance of an individual runner, as it's heteroskedastic in the speed regressions. It's not clear to me the best way to do this. My intuition is that better, more experienced horses and trainers have lower variance. We try regression to predict the residual^2 as a rough first estimate. Important to note that we wish not to predict this value exactly, instead just to get an estimation of the aggregate of this value to estimate variance of the inital speed prediction."
   ]
  },
  {
   "cell_type": "markdown",
   "metadata": {},
   "source": [
    "#### Variance Fit / Linear"
   ]
  },
  {
   "cell_type": "code",
   "execution_count": 6,
   "metadata": {},
   "outputs": [
    {
     "name": "stdout",
     "output_type": "stream",
     "text": [
      "Linear-Fit 0.086 R^2 train \n",
      "Linear-Fit -0.0848 R^2 test \n"
     ]
    }
   ],
   "source": [
    "vfit = Variance_Fit(fit.base.copy(),fit.trade_data.copy())\n",
    "vfit.linear_fit()"
   ]
  },
  {
   "cell_type": "markdown",
   "metadata": {},
   "source": [
    "#### Variance Fit / Decision-Tree"
   ]
  },
  {
   "cell_type": "code",
   "execution_count": 7,
   "metadata": {},
   "outputs": [
    {
     "name": "stdout",
     "output_type": "stream",
     "text": [
      "Decision-Tree-Fit 0.2717 R^2 train \n",
      "Decision-Tree-Fit -0.0415 R^2 test \n"
     ]
    }
   ],
   "source": [
    "vfit = Variance_Fit(fit.base.copy(),fit.trade_data.copy())\n",
    "vfit.decision_tree_fit(depth=4)"
   ]
  },
  {
   "cell_type": "markdown",
   "metadata": {},
   "source": [
    "#### Variance Fit / Constant"
   ]
  },
  {
   "cell_type": "markdown",
   "metadata": {},
   "source": [
    ">It appears that our attempt to predict variance doesn't work, perhaps we lack sufficient explanatory features or that the model is poorly formed, I suspect the latter is more likely given the same features found good success in speed prediction. \n",
    "So instead we can just use a constant variance fit, gridsearched to pick a good value. We want to develop a good scoring metric to be able to gridsearch and also for insight on how close our predictions are to other readily available odds (e.g. betfair exchange average price odds). We pick the common logistic regression scoring function:\n",
    "$$Loss = \\Sigma -ylog(y') - (1-y) log(1-y')$$"
   ]
  },
  {
   "cell_type": "code",
   "execution_count": 8,
   "metadata": {},
   "outputs": [],
   "source": [
    "vfit = Variance_Fit(fit.base.copy(),fit.trade_data.copy())\n",
    "\n",
    "X,Y = [],[]\n",
    "\n",
    "for i in np.arange(0.05,0.7,0.01):\n",
    "    vfit.associate_constant(i)\n",
    "    simulation = Scorer(vfit.final)\n",
    "    simulation.simulate(1000)\n",
    "    simulation.score(print_results = False)\n",
    "    X.append(i)\n",
    "    Y.append(simulation.score_theo)"
   ]
  },
  {
   "cell_type": "code",
   "execution_count": 9,
   "metadata": {},
   "outputs": [
    {
     "data": {
      "image/png": "[encoded data removed]",
      "text/plain": [
       "<Figure size 432x288 with 1 Axes>"
      ]
     },
     "metadata": {
      "needs_background": "light"
     },
     "output_type": "display_data"
    }
   ],
   "source": [
    "plt.plot(X, Y, color =\"red\",label='Score')\n",
    "plt.legend()\n",
    "plt.xlabel('Fitted constance variance')\n",
    "plt.ylabel('Score')\n",
    "plt.show()"
   ]
  },
  {
   "cell_type": "markdown",
   "metadata": {},
   "source": [
    "We pick 0.15 as the optimised constant variance and see this gives a score of ~3590. We wish to know how this compares to betfair average traded odds and betfair starting price odds. So we calculate:"
   ]
  },
  {
   "cell_type": "code",
   "execution_count": 10,
   "metadata": {},
   "outputs": [],
   "source": [
    "vfit = Variance_Fit(fit.base.copy(),fit.trade_data.copy())\n",
    "vfit.associate_constant(0.15)"
   ]
  },
  {
   "cell_type": "code",
   "execution_count": 11,
   "metadata": {},
   "outputs": [
    {
     "name": "stdout",
     "output_type": "stream",
     "text": [
      "Score from our theoretical odds: 3593.54\n",
      "Score from PPWAP implied odds: 3110.71\n",
      "Score from BSP implied odds: 3108.78\n"
     ]
    }
   ],
   "source": [
    "simulation = Scorer(vfit.final)\n",
    "simulation.simulate(1000)\n",
    "simulation.score()"
   ]
  },
  {
   "cell_type": "markdown",
   "metadata": {},
   "source": [
    ">We see our theoretical odds from speed and variance prediction are about 480 points off betfair implied odds, but how much is this difference? To get an idea of a'perfect' score, i.e. how good a perfectly representative prediction vs the actual underlying odds is we can simulate easily a single result for each race based on implied or theoretical odds and then calculate that score. Let's pretend the betfair average price is the actual underlying odds. We will run it a few times and calculate the average total score"
   ]
  },
  {
   "cell_type": "markdown",
   "metadata": {},
   "source": [
    "### Scoring a perfect odds prediction"
   ]
  },
  {
   "cell_type": "code",
   "execution_count": 13,
   "metadata": {
    "scrolled": true
   },
   "outputs": [
    {
     "name": "stdout",
     "output_type": "stream",
     "text": [
      "Average score from perfect odds prediction: 3056.13\n"
     ]
    }
   ],
   "source": [
    "frame = fit.trade_data.copy()\n",
    "sample_list = [Scorer.perfect_score(frame) for i in np.arange(0,10)]\n",
    "print('Average score from perfect odds prediction: ' + str(np.round(sum(sample_list)/len(sample_list),decimals=2)))"
   ]
  },
  {
   "cell_type": "markdown",
   "metadata": {},
   "source": [
    "Note betfair odds are not perfect, about 55 points off, but our prediction score is much further off"
   ]
  },
  {
   "cell_type": "markdown",
   "metadata": {},
   "source": [
    "## Conclusion"
   ]
  },
  {
   "cell_type": "markdown",
   "metadata": {},
   "source": [
    "Importantly we have a good scoring/testing framework above for systematic odds predictions. There are 2 obvious areas of focus:\n",
    "    \n",
    "1. Better model/training selections\n",
    ">* Better model selection, e.g. improving upon speed/variance prediction + monte-carlo\n",
    ">* Better training model selection, linear/xgboost/random forest etc\n",
    "\n",
    "2. Better feature engineering\n",
    ">* Better feature construction, more fundamental race intuition or better framework for systematic feature origination\n",
    ">* Getting more race/runner info\n",
    "\n",
    "I think the most productive areas for focus are the first bullet points under each list number"
   ]
  }
 ],
 "metadata": {
  "kernelspec": {
   "display_name": "Python 3",
   "language": "python",
   "name": "python3"
  },
  "language_info": {
   "codemirror_mode": {
    "name": "ipython",
    "version": 3
   },
   "file_extension": ".py",
   "mimetype": "text/x-python",
   "name": "python",
   "nbconvert_exporter": "python",
   "pygments_lexer": "ipython3",
   "version": "3.7.4"
  }
 },
 "nbformat": 4,
 "nbformat_minor": 2
}
